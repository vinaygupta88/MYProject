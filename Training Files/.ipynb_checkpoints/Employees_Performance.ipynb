{
 "cells": [
  {
   "cell_type": "markdown",
   "id": "2f7e7aec",
   "metadata": {},
   "source": [
    "Importing the Libraries"
   ]
  },
  {
   "cell_type": "code",
   "execution_count": 1,
   "id": "80d06e2e-99d1-44a4-b8de-12d96dfbeb00",
   "metadata": {},
   "outputs": [
    {
     "ename": "ModuleNotFoundError",
     "evalue": "No module named 'Xgboost'",
     "output_type": "error",
     "traceback": [
      "\u001b[1;31m---------------------------------------------------------------------------\u001b[0m",
      "\u001b[1;31mModuleNotFoundError\u001b[0m                       Traceback (most recent call last)",
      "Cell \u001b[1;32mIn[1], line 11\u001b[0m\n\u001b[0;32m      9\u001b[0m \u001b[38;5;28;01mfrom\u001b[39;00m \u001b[38;5;21;01msklearn\u001b[39;00m\u001b[38;5;21;01m.\u001b[39;00m\u001b[38;5;21;01mmetrics\u001b[39;00m \u001b[38;5;28;01mimport\u001b[39;00m r2_score\n\u001b[0;32m     10\u001b[0m \u001b[38;5;28;01mfrom\u001b[39;00m \u001b[38;5;21;01msklearn\u001b[39;00m\u001b[38;5;21;01m.\u001b[39;00m\u001b[38;5;21;01mensemble\u001b[39;00m \u001b[38;5;28;01mimport\u001b[39;00m RandomForestRegressor\n\u001b[1;32m---> 11\u001b[0m \u001b[38;5;28;01mimport\u001b[39;00m \u001b[38;5;21;01mXgboost\u001b[39;00m \u001b[38;5;28;01mas\u001b[39;00m \u001b[38;5;21;01mXgb\u001b[39;00m\n\u001b[0;32m     12\u001b[0m \u001b[38;5;28;01mimport\u001b[39;00m \u001b[38;5;21;01mpickle\u001b[39;00m\n",
      "\u001b[1;31mModuleNotFoundError\u001b[0m: No module named 'Xgboost'"
     ]
    }
   ],
   "source": [
    "import pandas as pd\n",
    "import seaborn as sns\n",
    "import matplotlib.pyplot as plt\n",
    "import MultiColumnLabelEncoder\n",
    "from sklearn.model_selection import train_test_split\n",
    "from sklearn.linear_model import LinearRegression\n",
    "from sklearn.metrics import mean_squared_error\n",
    "from sklearn.metrics import mean_absolute_error\n",
    "from sklearn.metrics import r2_score\n",
    "from sklearn.ensemble import RandomForestRegressor\n",
    "import Xgboost as Xgb\n",
    "import pickle"
   ]
  },
  {
   "cell_type": "markdown",
   "id": "0f3adb66",
   "metadata": {},
   "source": [
    "Read the Data"
   ]
  },
  {
   "cell_type": "code",
   "execution_count": null,
   "id": "42351137-304d-49ae-9c81-4f46a54494b7",
   "metadata": {},
   "outputs": [],
   "source": [
    "data=pd.read_csv(\"garments_worker_productivity.csv\")"
   ]
  },
  {
   "cell_type": "code",
   "execution_count": null,
   "id": "ff0829e4-0fcb-46b9-bbf7-7ba99c99c96e",
   "metadata": {
    "scrolled": true
   },
   "outputs": [],
   "source": [
    "data.head()"
   ]
  },
  {
   "cell_type": "markdown",
   "id": "b447ee7c",
   "metadata": {},
   "source": [
    "Correlation Analysis"
   ]
  },
  {
   "cell_type": "code",
   "execution_count": null,
   "id": "3d4e2e94",
   "metadata": {
    "scrolled": true
   },
   "outputs": [],
   "source": [
    "import seaborn as sns\n",
    "import matplotlib.pyplot as plt\n",
    "corrMatriX = data.corr()\n",
    "fig, aX = plt.subplots(figsize=(10,10))\n",
    "sns.heatmap(corrMatriX, annot=True, linewidths=.1, aX=aX)\n",
    "plt.show()"
   ]
  },
  {
   "cell_type": "markdown",
   "id": "bc0ee357",
   "metadata": {},
   "source": [
    "Descriptiv Analysis"
   ]
  },
  {
   "cell_type": "code",
   "execution_count": null,
   "id": "92691eef",
   "metadata": {},
   "outputs": [],
   "source": [
    "data.describe()"
   ]
  },
  {
   "cell_type": "markdown",
   "id": "302e3e02",
   "metadata": {},
   "source": [
    "Checking for NULL value"
   ]
  },
  {
   "cell_type": "code",
   "execution_count": null,
   "id": "27ed73d2",
   "metadata": {},
   "outputs": [],
   "source": [
    "data.shape\n",
    "(1197,15)\n",
    "data.info()"
   ]
  },
  {
   "cell_type": "code",
   "execution_count": null,
   "id": "824c70ec",
   "metadata": {},
   "outputs": [],
   "source": [
    "data.isnull().sum()"
   ]
  },
  {
   "cell_type": "code",
   "execution_count": null,
   "id": "ca52ddcf",
   "metadata": {},
   "outputs": [],
   "source": [
    "data.drop(['wip'],aXis=1,inplace=True)"
   ]
  },
  {
   "cell_type": "markdown",
   "id": "a29be45b",
   "metadata": {},
   "source": [
    "Handling Date &Department column"
   ]
  },
  {
   "cell_type": "code",
   "execution_count": null,
   "id": "1451e4fd",
   "metadata": {},
   "outputs": [],
   "source": [
    "data[\"date\"] = pd.to_datetime(data[\"date\"])\n"
   ]
  },
  {
   "cell_type": "code",
   "execution_count": null,
   "id": "9a8ad0c5",
   "metadata": {},
   "outputs": [],
   "source": [
    "data.date\n"
   ]
  },
  {
   "cell_type": "code",
   "execution_count": null,
   "id": "993a3740",
   "metadata": {},
   "outputs": [],
   "source": [
    "data['month']=data['date'].dt.month\n",
    "data.drop(['date'],aXis=1, inplace=True)"
   ]
  },
  {
   "cell_type": "code",
   "execution_count": null,
   "id": "f0d1f4f3",
   "metadata": {},
   "outputs": [],
   "source": [
    "data.month"
   ]
  },
  {
   "cell_type": "code",
   "execution_count": null,
   "id": "3467fb63",
   "metadata": {},
   "outputs": [],
   "source": [
    "data['department'].value_counts()"
   ]
  },
  {
   "cell_type": "code",
   "execution_count": null,
   "id": "b90a6e30",
   "metadata": {},
   "outputs": [],
   "source": [
    "#Finishing department is split into 2, we will merge them into 1\n",
    "data['department'] = data['department'].apply(lambda X:'finishing' if X.replace(\"\",\"\")=='finishing' else 'sweing')"
   ]
  },
  {
   "cell_type": "code",
   "execution_count": null,
   "id": "55c993d9",
   "metadata": {},
   "outputs": [],
   "source": [
    "data['department'].value_counts()"
   ]
  },
  {
   "cell_type": "markdown",
   "id": "4e0864bf",
   "metadata": {},
   "source": [
    "Handling Categorical Values"
   ]
  },
  {
   "cell_type": "code",
   "execution_count": null,
   "id": "1e43b2e0",
   "metadata": {},
   "outputs": [],
   "source": [
    "import MultiColumnLabelEncoder\n",
    "Mcle = MultiColumnLabelEncoder.MultiColumnLabelEncoder()\n",
    "data = Mcle.fit_transform(data)"
   ]
  },
  {
   "cell_type": "markdown",
   "id": "5b0c37c6",
   "metadata": {},
   "source": [
    "Splitting Data into Train And Test"
   ]
  },
  {
   "cell_type": "code",
   "execution_count": null,
   "id": "e79c053d",
   "metadata": {},
   "outputs": [],
   "source": [
    "X=data.drop(['actual_productivity'],aXis=1)\n",
    "y=data['actual_productivity']"
   ]
  },
  {
   "cell_type": "code",
   "execution_count": null,
   "id": "1a5bb5e4",
   "metadata": {},
   "outputs": [],
   "source": [
    "X=X.to_numpy()"
   ]
  },
  {
   "cell_type": "code",
   "execution_count": null,
   "id": "30b57402",
   "metadata": {},
   "outputs": [],
   "source": [
    "X"
   ]
  },
  {
   "cell_type": "code",
   "execution_count": null,
   "id": "2fcdd7d9",
   "metadata": {},
   "outputs": [],
   "source": [
    "#splitting the data\n",
    "from sklearn.model_selection import train_test_split\n",
    "X_train, X_test, y_train, y_test = train_test_split(X, y,train_size=0.8,random_state=0)"
   ]
  },
  {
   "cell_type": "markdown",
   "id": "bcbb60df",
   "metadata": {},
   "source": [
    "Linear Regression Model"
   ]
  },
  {
   "cell_type": "code",
   "execution_count": null,
   "id": "ecb0dbac",
   "metadata": {},
   "outputs": [],
   "source": [
    "from sklearn.linear_model import LinearRegression\n",
    "model_lr=LinearRegression()"
   ]
  },
  {
   "cell_type": "code",
   "execution_count": null,
   "id": "3c230128-02e5-417d-ba88-bae452f743ad",
   "metadata": {},
   "outputs": [],
   "source": [
    "model_lr.fit(X_train,y_train)"
   ]
  },
  {
   "cell_type": "code",
   "execution_count": null,
   "id": "fa2e7b60",
   "metadata": {},
   "outputs": [],
   "source": [
    "pred_test=model_lr.predict(X_test)\n",
    "print(\"test_MSE:\",mean_squared_error(y_test, pred_test))\n",
    "print(\"test_MAE:\",mean_absolute_error(y_test, pred_test))\n",
    "print(\"R2_score:{}\".format(r2_score(y_test, pred_test)))"
   ]
  },
  {
   "cell_type": "markdown",
   "id": "05f23caf",
   "metadata": {},
   "source": [
    "Random Forest Model"
   ]
  },
  {
   "cell_type": "code",
   "execution_count": null,
   "id": "37d8ade1",
   "metadata": {},
   "outputs": [],
   "source": [
    "from sklearn.ensemble import RandomForestRegressor\n",
    "model_rf = RandomForestRegressor(n_estimators=200,maX_depth=5)"
   ]
  },
  {
   "cell_type": "code",
   "execution_count": null,
   "id": "c3b7b026-5d71-4976-b969-1e81fdd285e6",
   "metadata": {},
   "outputs": [],
   "source": [
    "model_rf.fit(X_test,y_test)"
   ]
  },
  {
   "cell_type": "code",
   "execution_count": null,
   "id": "1627d91f",
   "metadata": {},
   "outputs": [],
   "source": [
    "pred = model_rf.predict(X_test)\n",
    "print(\"test_MSE:\",mean_squared_error(y_test, pred))\n",
    "print(\"test_MAE:\",mean_absolute_error(y_test, pred))\n",
    "print(\"R2_score:{}\".format(r2_score(y_test, pred)))"
   ]
  },
  {
   "cell_type": "markdown",
   "id": "a10bf4e8",
   "metadata": {},
   "source": [
    "Xgboot Model"
   ]
  },
  {
   "cell_type": "code",
   "execution_count": null,
   "id": "f473f9ae",
   "metadata": {},
   "outputs": [],
   "source": [
    "import Xgboost as Xgb\n",
    "model_Xgb = Xgb.XGBRegressor(n_estimators=200, maX_depth=5, learning_rate=0.1)"
   ]
  },
  {
   "cell_type": "code",
   "execution_count": null,
   "id": "4bcd57a5",
   "metadata": {},
   "outputs": [],
   "source": [
    "model_Xgb.fit(X_test,y_test)\n"
   ]
  },
  {
   "cell_type": "code",
   "execution_count": null,
   "id": "18c7b1ad",
   "metadata": {},
   "outputs": [],
   "source": [
    "pred3 = model_Xgb.predict(X_test)\n",
    "print(\"test_MSE:\",mean_squared_error(y_test, pred3))\n",
    "print(\"test_MAE:\",mean_absolute_error(y_test, pred3))\n",
    "print(\"R2_score:{}\".format(r2_score(y_test, pred3)))"
   ]
  },
  {
   "cell_type": "markdown",
   "id": "724e2737",
   "metadata": {},
   "source": [
    "Compare the model"
   ]
  },
  {
   "cell_type": "code",
   "execution_count": null,
   "id": "1d87f1e3",
   "metadata": {},
   "outputs": [],
   "source": [
    "#Linear Regression\n",
    "pred_test=model_lr.predict(X_test)\n",
    "print(\"test_MSE:\",mean_squared_error(y_test, pred_test))\n",
    "print(\"test_MAE:\",mean_absolute_error(y_test, pred_test))\n",
    "print(\"R2_score:{}\".format(r2_score(y_test, pred_test)))"
   ]
  },
  {
   "cell_type": "code",
   "execution_count": null,
   "id": "17e061af",
   "metadata": {},
   "outputs": [],
   "source": [
    "#Random Forest\n",
    "pred = model_rf.predict(X_test)\n",
    "print(\"test_MSE:\",mean_squared_error(y_test, pred))\n",
    "print(\"test_MAE:\",mean_absolute_error(y_test, pred))\n",
    "print(\"R2_score:{}\".format(r2_score(y_test, pred)))"
   ]
  },
  {
   "cell_type": "code",
   "execution_count": null,
   "id": "dc5cb317",
   "metadata": {},
   "outputs": [],
   "source": [
    "#XGBoot\n",
    "pred = model_rf.predict(X_test)\n",
    "print(\"test_MSE:\",mean_squared_error(y_test, pred))\n",
    "print(\"test_MAE:\",mean_absolute_error(y_test, pred))\n",
    "print(\"R2_score:{}\".format(r2_score(y_test, pred)))"
   ]
  },
  {
   "cell_type": "markdown",
   "id": "6b4d2ee8",
   "metadata": {},
   "source": [
    "Evaluating Performance of the Model And Saving the Model"
   ]
  },
  {
   "cell_type": "code",
   "execution_count": null,
   "id": "7cba595a",
   "metadata": {},
   "outputs": [],
   "source": [
    "pred3=model_xgb.predict(X_test)"
   ]
  },
  {
   "cell_type": "code",
   "execution_count": null,
   "id": "73b17c69",
   "metadata": {},
   "outputs": [],
   "source": [
    "print(\"test_MSE:\",mean_squared_error(y_test, pred3))\n",
    "print(\"test_MAE:\",mean_absolute_error(y_test, pred3))\n",
    "print(\"R2_score:{}\".format(r2_score(y_test, pred3)))"
   ]
  }
 ],
 "metadata": {
  "kernelspec": {
   "display_name": "Python 3 (ipykernel)",
   "language": "python",
   "name": "python3"
  },
  "language_info": {
   "codemirror_mode": {
    "name": "ipython",
    "version": 3
   },
   "file_extension": ".py",
   "mimetype": "text/x-python",
   "name": "python",
   "nbconvert_exporter": "python",
   "pygments_lexer": "ipython3",
   "version": "3.12.4"
  }
 },
 "nbformat": 4,
 "nbformat_minor": 5
}
