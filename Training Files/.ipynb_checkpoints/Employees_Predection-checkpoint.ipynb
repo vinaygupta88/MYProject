{
 "cells": [
  {
   "cell_type": "code",
   "execution_count": null,
   "id": "5978fbff-e6ec-471f-a3e3-1e1887b54bcc",
   "metadata": {},
   "outputs": [],
   "source": [
    "import pandas as pd\n",
    "import seaborn as sns\n",
    "import matplotlib.pyplot as plt\n",
    "import MultiColumnLabelEncoder\n",
    "from sklearn.model_selection import train_test_split\n",
    "from sklearn.linear_model import LinearRegression\n",
    "from sklearn.metrics import mean_squared_error\n",
    "from sklearn.metrics import mean_absolute_error\n",
    "from sklearn.metrics import r2_score\n",
    "from sklearn.ensemble import RandomForestRegressor\n",
    "import xgboost as xgb\n",
    "import pickle"
   ]
  },
  {
   "cell_type": "code",
   "execution_count": null,
   "id": "db811a15-ddd5-4cb4-a64a-bb733e455d5d",
   "metadata": {},
   "outputs": [],
   "source": [
    "data=pd.read_csv(\"garments_worker_productivity.csv\")"
   ]
  },
  {
   "cell_type": "code",
   "execution_count": null,
   "id": "d84e1cc2-26fb-4605-b454-978737aed6cb",
   "metadata": {},
   "outputs": [],
   "source": [
    "data.head()"
   ]
  },
  {
   "cell_type": "code",
   "execution_count": null,
   "id": "47dd10e7-b36d-4d9d-81dd-b1348b898cb4",
   "metadata": {},
   "outputs": [],
   "source": [
    "import seaborn as sns\n",
    "import matplotlib.pyplot as plt\n",
    "corrMatrix = data.corr()\n",
    "fig, ax = plt.subplots(figsize=(15,15))\n",
    "sns.heatmap(corrMatrix, annot=True, linewidths=.5, ax=ax)\n",
    "plt.show()"
   ]
  },
  {
   "cell_type": "code",
   "execution_count": null,
   "id": "92d03447-9aec-45b1-9668-a49743811664",
   "metadata": {},
   "outputs": [],
   "source": [
    "data.describe()"
   ]
  },
  {
   "cell_type": "code",
   "execution_count": null,
   "id": "95e9eff9-b5e0-4cd2-83c1-6de3aeebfbd4",
   "metadata": {},
   "outputs": [],
   "source": [
    "data.shape\n",
    "(1197,15)\n",
    "data.info()"
   ]
  },
  {
   "cell_type": "code",
   "execution_count": null,
   "id": "fdaa0b8d-fac6-4b06-b756-02f6463710b3",
   "metadata": {},
   "outputs": [],
   "source": [
    "data.isnull().sum()"
   ]
  },
  {
   "cell_type": "code",
   "execution_count": null,
   "id": "2bdf4424-bbcc-4046-be81-b909187483f9",
   "metadata": {},
   "outputs": [],
   "source": [
    "data.drop(['wip'],axis=1,inplace=True)"
   ]
  },
  {
   "cell_type": "code",
   "execution_count": null,
   "id": "0bec27bd-aac7-4cb1-ab12-857f335d61e2",
   "metadata": {},
   "outputs": [],
   "source": [
    "data[\"date\"] = pd.to_datetime(data[\"date\"])"
   ]
  },
  {
   "cell_type": "code",
   "execution_count": null,
   "id": "b50f4f7c-99a3-4520-b1ee-9edaf8efa640",
   "metadata": {},
   "outputs": [],
   "source": [
    "data.date"
   ]
  },
  {
   "cell_type": "code",
   "execution_count": null,
   "id": "9982515a-240e-40ae-bd17-e53d82ce5b39",
   "metadata": {},
   "outputs": [],
   "source": [
    "data['month']=data['date'].dt.month\n",
    "data.drop(['date'],axis=1, inplace=True)"
   ]
  },
  {
   "cell_type": "code",
   "execution_count": null,
   "id": "a53bc0ac-6f96-4a96-a131-8284e9491dd3",
   "metadata": {},
   "outputs": [],
   "source": [
    "data.month"
   ]
  },
  {
   "cell_type": "code",
   "execution_count": null,
   "id": "d25a99a8-dfee-4b74-9621-db5537a9cfd9",
   "metadata": {},
   "outputs": [],
   "source": [
    "data['department'].value_counts()"
   ]
  },
  {
   "cell_type": "code",
   "execution_count": null,
   "id": "28a29081-5c4e-42a6-b6f9-784cc549bbf1",
   "metadata": {},
   "outputs": [],
   "source": [
    "data['department'] = data['department'].apply(lambda x:'finishing' if x.replace(\"\",\"\")=='finishing' else 'sweing')"
   ]
  },
  {
   "cell_type": "code",
   "execution_count": null,
   "id": "17a1bd37-ea22-4d1f-a0f0-1f17ef9491cf",
   "metadata": {},
   "outputs": [],
   "source": [
    "data['department'].value_counts()"
   ]
  },
  {
   "cell_type": "code",
   "execution_count": null,
   "id": "243b6155-70cd-4061-834a-c23fab4e1e28",
   "metadata": {},
   "outputs": [],
   "source": [
    "import MultiColumnLabelEncoder\n",
    "Mcle = MultiColumnLabelEncoder.MultiColumnLabelEncoder()\n",
    "data = Mcle.fit_transform(data)"
   ]
  },
  {
   "cell_type": "code",
   "execution_count": null,
   "id": "c6b05890-ddb8-4743-9aae-b868d83e4dc3",
   "metadata": {},
   "outputs": [],
   "source": [
    "x=data.drop(['actual_productivity'],axis=1)\n",
    "y=data['actual_productivity']"
   ]
  },
  {
   "cell_type": "code",
   "execution_count": null,
   "id": "b9484d7e-a614-4ef5-a819-3a9c3a1e832b",
   "metadata": {},
   "outputs": [],
   "source": [
    "X=x.to_numpy()"
   ]
  },
  {
   "cell_type": "code",
   "execution_count": null,
   "id": "6549173c-2564-454c-a0ef-dd37190b6e0a",
   "metadata": {},
   "outputs": [],
   "source": [
    "x"
   ]
  },
  {
   "cell_type": "code",
   "execution_count": null,
   "id": "daae10e1-1590-4a1c-8dfe-2eb7de05d90e",
   "metadata": {},
   "outputs": [],
   "source": [
    "from sklearn.model_selection import train_test_split\n",
    "x_train, x_test, y_train, y_test = train_test_split(X, y,train_size=0.8,random_state=0)"
   ]
  },
  {
   "cell_type": "code",
   "execution_count": null,
   "id": "d2dc1567-5e5c-40e6-88b9-7738ec9074f8",
   "metadata": {},
   "outputs": [],
   "source": [
    "from sklearn.linear_model import LinearRegression\n",
    "model_lr=LinearRegression()"
   ]
  },
  {
   "cell_type": "code",
   "execution_count": null,
   "id": "94d445b3-fb11-4aba-a1b9-27539904d02d",
   "metadata": {},
   "outputs": [],
   "source": [
    "model_lr.fit(x_test,y_test)\n",
    "pred_test=model_lr.predict(x_test)\n",
    "print(\"test_MSE:\",mean_squared_error(y_test, pred_test))\n",
    "print(\"test_MAE:\",mean_absolute_error(y_test, pred_test))\n",
    "print(\"R2_score:{}\".format(r2_score(y_test, pred_test)))"
   ]
  },
  {
   "cell_type": "code",
   "execution_count": null,
   "id": "b811391d-0b0a-4c04-8c2d-82c223d76b58",
   "metadata": {},
   "outputs": [],
   "source": [
    "from sklearn.ensemble import RandomForestRegressor\n",
    "model_rf = RandomForestRegressor(n_estimators=200,max_depth=5)"
   ]
  },
  {
   "cell_type": "code",
   "execution_count": null,
   "id": "b2055848-e0e7-4970-82c0-549111faf808",
   "metadata": {},
   "outputs": [],
   "source": [
    "model_rf.fit(x_test,y_test)\n",
    "pred = model_rf.predict(x_test)\n",
    "print(\"test_MSE:\",mean_squared_error(y_test, pred))\n",
    "print(\"test_MAE:\",mean_absolute_error(y_test, pred)) \n",
    "print(\"R2_score:{}\".format(r2_score(y_test, pred)))"
   ]
  },
  {
   "cell_type": "code",
   "execution_count": null,
   "id": "753f3564-7903-466e-abe7-6a74fcfc4bbf",
   "metadata": {},
   "outputs": [],
   "source": [
    "import xgboost as xgb\n",
    "model_xgb = xgb.XGBRegressor(n_estimators=200, max_depth=5, learning_rate=0.1)"
   ]
  },
  {
   "cell_type": "code",
   "execution_count": null,
   "id": "8d95ef4d-9117-4bc8-8e82-b56e9aa7600b",
   "metadata": {},
   "outputs": [],
   "source": [
    "model_xgb.fit(x_test,y_test)\n",
    "pred3=model_xgb.predict(x_test)\n",
    "print(\"test_MSE:\",mean_squared_error(y_test, pred3))\n",
    "print(\"test_MAE:\",mean_absolute_error(y_test, pred3))\n",
    "print(\"R2_score:{}\".format(r2_score(y_test, pred3)))"
   ]
  },
  {
   "cell_type": "code",
   "execution_count": null,
   "id": "78f3dd04-a05d-40e1-b512-705dcd2b740d",
   "metadata": {},
   "outputs": [],
   "source": [
    "model_lr.fit(x_train,y_train)\n",
    "pred_test=model_lr.predict(x_test)\n",
    "print(\"test_MSE:\",mean_squared_error(y_test, pred_test)) \n",
    "print(\"test_MAE:\",mean_absolute_error(y_test, pred_test)) \n",
    "print(\"R2_score:{}\".format(r2_score(y_test, pred_test)))"
   ]
  },
  {
   "cell_type": "code",
   "execution_count": null,
   "id": "e91c89b7-b9d7-4cc3-99c7-665333af394e",
   "metadata": {},
   "outputs": [],
   "source": [
    "pred = model_rf.predict(x_test)\n",
    "print(\"test_MSE:\",mean_squared_error(y_test, pred)) \n",
    "print(\"test_MAE:\",mean_absolute_error(y_test, pred))\n",
    "print(\"R2_score:{}\".format(r2_score(y_test, pred)))"
   ]
  },
  {
   "cell_type": "code",
   "execution_count": null,
   "id": "65e0cbbc-942a-4e01-969f-dcbad8d50f9e",
   "metadata": {},
   "outputs": [],
   "source": [
    "pred = model_rf.predict(x_test)\n",
    "print(\"test_MSE:\",mean_squared_error(y_test, pred)) \n",
    "print(\"test_MAE:\",mean_absolute_error(y_test, pred))\n",
    "print(\"R2_score:{}\".format(r2_score(y_test, pred)))"
   ]
  },
  {
   "cell_type": "code",
   "execution_count": null,
   "id": "5edfabd3-105b-4b72-bd84-34bb3355f85b",
   "metadata": {},
   "outputs": [],
   "source": [
    "pred3=model_xgb.predict(x_test)"
   ]
  },
  {
   "cell_type": "code",
   "execution_count": null,
   "id": "de683aba-14ee-44a6-9011-9404c425bb12",
   "metadata": {},
   "outputs": [],
   "source": [
    "print(\"test_MSE:\",mean_squared_error(y_test, pred3)) \n",
    "print(\"test_MAE:\",mean_absolute_error(y_test, pred3)) \n",
    "print(\"R2_score:{}\".format(r2_score(y_test, pred3)))"
   ]
  },
  {
   "cell_type": "code",
   "execution_count": null,
   "id": "ad46564a-b4a0-4b4a-8a99-1df70196cc94",
   "metadata": {},
   "outputs": [],
   "source": [
    "import pickle\n",
    "pickle.dump(model_xgb,open('gwp.pkl','wb'))"
   ]
  }
 ],
 "metadata": {
  "kernelspec": {
   "display_name": "Python 3 (ipykernel)",
   "language": "python",
   "name": "python3"
  },
  "language_info": {
   "codemirror_mode": {
    "name": "ipython",
    "version": 3
   },
   "file_extension": ".py",
   "mimetype": "text/x-python",
   "name": "python",
   "nbconvert_exporter": "python",
   "pygments_lexer": "ipython3",
   "version": "3.12.4"
  }
 },
 "nbformat": 4,
 "nbformat_minor": 5
}
